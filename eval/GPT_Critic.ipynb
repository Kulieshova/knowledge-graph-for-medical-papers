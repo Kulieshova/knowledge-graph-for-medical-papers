{
 "cells": [
  {
   "cell_type": "markdown",
   "id": "b7f94c98-cdbe-4b1a-8787-823dd648596c",
   "metadata": {},
   "source": [
    "# GPT Critic"
   ]
  },
  {
   "cell_type": "code",
   "execution_count": 2,
   "id": "aeb697bf-a6b8-4570-91ee-eb59dcc56ef7",
   "metadata": {},
   "outputs": [
    {
     "name": "stdout",
     "output_type": "stream",
     "text": [
      "Processing 163 LLM outputs against 176 ground truth statements...\n"
     ]
    },
    {
     "name": "stderr",
     "output_type": "stream",
     "text": [
      "Evaluating relationships: 100%|███████████████| 163/163 [04:25<00:00,  1.63s/it]\n"
     ]
    },
    {
     "name": "stdout",
     "output_type": "stream",
     "text": [
      "\n",
      "Overall Average Score: 0.72\n",
      "Processed 158 evaluations\n",
      "\n",
      "Summary DataFrame:\n",
      "                                          llm_output  \\\n",
      "0  Selective serotonin reuptake inhibitors (SSRIs...   \n",
      "1  Monoamine oxidase inhibitors (MAOIs) Less comm...   \n",
      "2  Monoamine Oxidase Inhibitors (MAOIs) Definitio...   \n",
      "3  Monoamine oxidase inhibitors (MAOIs) Specific ...   \n",
      "4  Monoamine oxidase inhibitors (MAOIs) second-li...   \n",
      "\n",
      "                          best_matching_ground_truth  \\\n",
      "0              SSRIs Treat Acute phase of depression   \n",
      "1  Monoamine oxidase inhibitors Demonstrated spec...   \n",
      "2  Pharmacotherapy Entails Monoamine oxidase inhi...   \n",
      "3  Pharmacotherapy Entails Monoamine oxidase inhi...   \n",
      "4  Monoamine oxidase inhibitors Eligible for Pati...   \n",
      "\n",
      "                                     best_evaluation  best_score  \n",
      "0  Score: 0.95\\nThe LLM output is highly correct ...        0.95  \n",
      "1  Score: 0.75\\nThe LLM output correctly acknowle...        0.75  \n",
      "2  Score: 0.80\\nThe LLM output provides additiona...        0.80  \n",
      "3  Score: 0.75\\nThe LLM output correctly identifi...        0.75  \n",
      "4  Score: 0.85\\nThe LLM output accurately conveys...        0.85  \n",
      "Processing 172 LLM outputs against 176 ground truth statements...\n"
     ]
    },
    {
     "name": "stderr",
     "output_type": "stream",
     "text": [
      "Evaluating relationships: 100%|███████████████| 172/172 [03:31<00:00,  1.23s/it]\n"
     ]
    },
    {
     "name": "stdout",
     "output_type": "stream",
     "text": [
      "\n",
      "Overall Average Score: 0.67\n",
      "Processed 164 evaluations\n",
      "\n",
      "Summary DataFrame:\n",
      "                                          llm_output  \\\n",
      "0  depression with atypical features subset depre...   \n",
      "1  selective serotonin reuptake inhibitors (ssris...   \n",
      "2  tricyclic antidepressants (tca) more effective...   \n",
      "3  selective serotonin reuptake inhibitors (ssris...   \n",
      "4  venlafaxine comparable to tricyclic antidepres...   \n",
      "\n",
      "                          best_matching_ground_truth  \\\n",
      "0  Marital and family therapy Treats Severe forms...   \n",
      "1  Norepinephrine reuptake inhibitors Eligible fo...   \n",
      "2  Pharmacotherapy Entails Norepinephrine reuptak...   \n",
      "3  Depression Side effect Slower response to trea...   \n",
      "4  Monoamine oxidase inhibitors Same efficacy as ...   \n",
      "\n",
      "                                     best_evaluation  best_score  \n",
      "0  Score: 0.50\\nThe LLM output only partially cap...        0.50  \n",
      "1  Score: 0.75\\nThe LLM output correctly identifi...        0.75  \n",
      "2  Score: 0.75\\nThe LLM output is mostly correct ...        0.75  \n",
      "3  Score: 0.50\\nThe LLM output mentions first-lin...        0.50  \n",
      "4  Score: 0.75\\nThe LLM output is mostly correct ...        0.75  \n",
      "Processing 106 LLM outputs against 176 ground truth statements...\n"
     ]
    },
    {
     "name": "stderr",
     "output_type": "stream",
     "text": [
      "Evaluating relationships: 100%|███████████████| 106/106 [02:40<00:00,  1.51s/it]\n"
     ]
    },
    {
     "name": "stdout",
     "output_type": "stream",
     "text": [
      "\n",
      "Overall Average Score: 0.72\n",
      "Processed 103 evaluations\n",
      "\n",
      "Summary DataFrame:\n",
      "                                          llm_output  \\\n",
      "0  selective serotonin reuptake inhibitors first-...   \n",
      "1  serotonin-norepinephrine reuptake inhibitors (...   \n",
      "2  monoamine oxidase inhibitors (maois) less comm...   \n",
      "3  selective serotonin reuptake inhibitors (ssris...   \n",
      "4  tricyclic antidepressants (tcas) comparable to...   \n",
      "\n",
      "                          best_matching_ground_truth  \\\n",
      "0  Pharmacotherapy Entails Norepinephrine reuptak...   \n",
      "1  Pharmacotherapy Entails Norepinephrine reuptak...   \n",
      "2  Pharmacotherapy Entails Monoamine oxidase inhi...   \n",
      "3  Depression-focused psychotherapy Second most c...   \n",
      "4  Monoamine oxidase inhibitors Same efficacy as ...   \n",
      "\n",
      "                                     best_evaluation  best_score  \n",
      "0  Score: 0.50\\nThe LLM output is somewhat relate...        0.50  \n",
      "1  Score: 0.75\\nThe LLM output is mostly correct ...        0.75  \n",
      "2  Score: 0.75\\nThe LLM output correctly mentions...        0.75  \n",
      "3  Score: 0.75\\nThe LLM output is mostly correct ...        0.75  \n",
      "4  Score: 0.75\\nThe LLM output is not completely ...        0.75  \n",
      "Processing 110 LLM outputs against 176 ground truth statements...\n"
     ]
    },
    {
     "name": "stderr",
     "output_type": "stream",
     "text": [
      "Evaluating relationships: 100%|███████████████| 110/110 [02:37<00:00,  1.43s/it]\n"
     ]
    },
    {
     "name": "stdout",
     "output_type": "stream",
     "text": [
      "\n",
      "Overall Average Score: 0.68\n",
      "Processed 106 evaluations\n",
      "\n",
      "Summary DataFrame:\n",
      "                                          llm_output  \\\n",
      "0  venlafaxine comparable to tricyclic antidepres...   \n",
      "1  mirtazapine properties increases serotonin or ...   \n",
      "2  selective serotonin reuptake inhibitors (ssris...   \n",
      "3  vortioxetine specific efficacy in treating dep...   \n",
      "4  selective serotonin reuptake inhibitors (ssris...   \n",
      "\n",
      "                          best_matching_ground_truth  \\\n",
      "0  Monoamine oxidase inhibitors Same efficacy as ...   \n",
      "1  Mirtazapine Increases Availability of serotoni...   \n",
      "2  Norepinephrine reuptake inhibitors Eligible fo...   \n",
      "3  Monoamine oxidase inhibitors Demonstrated spec...   \n",
      "4  Monoamine oxidase inhibitors Same efficacy as ...   \n",
      "\n",
      "                                     best_evaluation  best_score  \n",
      "0  Score: 0.75\\nThe LLM output is partially corre...        0.75  \n",
      "1  Score: 0.90\\nThe LLM output correctly conveys ...        0.90  \n",
      "2  Score: 0.75\\nThe LLM output partially reflects...        0.75  \n",
      "3  Score: 0.50\\nThe LLM output is incorrect as it...        0.50  \n",
      "4  Score: 0.80\\nThe LLM output is mostly correct ...        0.80  \n",
      "Processing 84 LLM outputs against 176 ground truth statements...\n"
     ]
    },
    {
     "name": "stderr",
     "output_type": "stream",
     "text": [
      "Evaluating relationships: 100%|█████████████████| 84/84 [01:51<00:00,  1.33s/it]\n"
     ]
    },
    {
     "name": "stdout",
     "output_type": "stream",
     "text": [
      "\n",
      "Overall Average Score: 0.65\n",
      "Processed 81 evaluations\n",
      "\n",
      "Summary DataFrame:\n",
      "                                          llm_output  \\\n",
      "0  ketamine highly effective treatment-resistant ...   \n",
      "1  selective serotonin reuptake inhibitors (ssris...   \n",
      "2  monoamine oxidase inhibitors (maois) less comm...   \n",
      "3  serotonin-norepinephrine reuptake inhibitors (...   \n",
      "4  monoamine oxidase inhibitors (maois) more effe...   \n",
      "\n",
      "                          best_matching_ground_truth  \\\n",
      "0  Ketamine Has effects on Unipolar, bipolar depr...   \n",
      "1  Norepinephrine reuptake inhibitors Eligible fo...   \n",
      "2  Pharmacotherapy Entails Monoamine oxidase inhi...   \n",
      "3  Norepinephrine reuptake inhibitors Eligible fo...   \n",
      "4  Monoamine oxidase inhibitors Same efficacy as ...   \n",
      "\n",
      "                                     best_evaluation  best_score  \n",
      "0  Score: 0.75\\nThe LLM output is mostly correct ...        0.75  \n",
      "1  Score: 0.50\\nThe LLM Output only partially cap...        0.50  \n",
      "2  Score: 0.75\\nThe LLM output is mostly correct ...        0.75  \n",
      "3  Score: 0.80\\nThe LLM output is mostly correct ...        0.80  \n",
      "4  Score: 0.75\\nThe LLM output is somewhat relate...        0.75  \n",
      "Processing 109 LLM outputs against 176 ground truth statements...\n"
     ]
    },
    {
     "name": "stderr",
     "output_type": "stream",
     "text": [
      "Evaluating relationships: 100%|███████████████| 109/109 [02:47<00:00,  1.54s/it]\n"
     ]
    },
    {
     "name": "stdout",
     "output_type": "stream",
     "text": [
      "\n",
      "Overall Average Score: 0.76\n",
      "Processed 105 evaluations\n",
      "\n",
      "Summary DataFrame:\n",
      "                                          llm_output  \\\n",
      "0  VNS Usage treatment-resistant unilateral or bi...   \n",
      "1  ECT Highly effective for Major Unipolar Depres...   \n",
      "2  Ketamine Highly effective for treatment-resist...   \n",
      "3          SSRIs More commonly used Major Depression   \n",
      "4  Bupropion side effects minimal weight gain or ...   \n",
      "\n",
      "                          best_matching_ground_truth  \\\n",
      "0  Ketamine Has effects on Unipolar, bipolar depr...   \n",
      "1  Electroconvulsive therapy Effective Acute phas...   \n",
      "2  Ketamine Has effects on Unipolar, bipolar depr...   \n",
      "3              SSRIs Treat Acute phase of depression   \n",
      "4  Bupropion Properties A better tolerability tha...   \n",
      "\n",
      "                                     best_evaluation  best_score  \n",
      "0  Score: 0.70\\nThe LLM output is somewhat releva...        0.70  \n",
      "1  Score: 0.75\\nThe LLM output is mostly correct ...        0.75  \n",
      "2  Score: 0.75\\nThe LLM output is mostly correct ...        0.75  \n",
      "3  Score: 0.75\\nThe LLM output is mostly correct ...        0.75  \n",
      "4  Score: 0.75\\nThe LLM output is mostly correct ...        0.75  \n",
      "Processing 97 LLM outputs against 176 ground truth statements...\n"
     ]
    },
    {
     "name": "stderr",
     "output_type": "stream",
     "text": [
      "Evaluating relationships: 100%|█████████████████| 97/97 [03:41<00:00,  2.28s/it]\n"
     ]
    },
    {
     "name": "stdout",
     "output_type": "stream",
     "text": [
      "\n",
      "Overall Average Score: 0.74\n",
      "Processed 97 evaluations\n",
      "\n",
      "Summary DataFrame:\n",
      "                                          llm_output  \\\n",
      "0  Selective Serotonin Reuptake Inhibitors (SSRIs...   \n",
      "1                ECT Highly effective for Depression   \n",
      "2  Anxious Depression more common than nonanxious...   \n",
      "3  Ketamine Highly effective for treatment-resist...   \n",
      "4  Anxious Depression side effects low remission ...   \n",
      "\n",
      "                          best_matching_ground_truth  \\\n",
      "0  Monoamine oxidase inhibitors Eligible for Pati...   \n",
      "1  Electroconvulsive therapy Effective Acute phas...   \n",
      "2  Problem-solving therapy Use Preventing depress...   \n",
      "3  Ketamine Has effects on Unipolar, bipolar depr...   \n",
      "4                   Depression Side effect Mortality   \n",
      "\n",
      "                                     best_evaluation  best_score  \n",
      "0  Score: 0.60\\nThe LLM output is partly correct ...        0.60  \n",
      "1  Score: 0.75\\nThe LLM output is largely correct...        0.75  \n",
      "2  Score: 0.50\\nThe LLM output is not highly corr...        0.50  \n",
      "3  Score: 0.75\\nThe LLM output is mostly correct ...        0.75  \n",
      "4  Score: 0.50\\nThe LLM output partially captures...        0.50  \n",
      "Processing 116 LLM outputs against 176 ground truth statements...\n"
     ]
    },
    {
     "name": "stderr",
     "output_type": "stream",
     "text": [
      "Evaluating relationships: 100%|███████████████| 116/116 [03:22<00:00,  1.74s/it]\n"
     ]
    },
    {
     "name": "stdout",
     "output_type": "stream",
     "text": [
      "\n",
      "Overall Average Score: 0.76\n",
      "Processed 113 evaluations\n",
      "\n",
      "Summary DataFrame:\n",
      "                                          llm_output  \\\n",
      "0  SSRIs More commonly used Major Depressive Diso...   \n",
      "1  Selective Serotonin Reuptake Inhibitor antidep...   \n",
      "2  Monoamine Oxidase Inhibitors Less commonly use...   \n",
      "3  Vagus Nerve Stimulation Treats resistant unila...   \n",
      "4  Depression-focused psychotherapy second-line t...   \n",
      "\n",
      "                          best_matching_ground_truth  \\\n",
      "0  Bupropion Properties Has a more activating pro...   \n",
      "1  Mindfulness-based cognitive therapy Goal Reduc...   \n",
      "2  Pharmacotherapy Entails Monoamine oxidase inhi...   \n",
      "3   Pharmacotherapy Treats Acute phase of depression   \n",
      "4  Depression-focused psychotherapy Second most c...   \n",
      "\n",
      "                                     best_evaluation  best_score  \n",
      "0  Score: 0.50\\nThe LLM output partially captures...        0.50  \n",
      "1  Score: 0.50\\nThe score is low because the LLM ...        0.50  \n",
      "2  Score: 0.75\\nThe LLM output is mostly correct ...        0.75  \n",
      "3  Score: 0.75\\nLLM Output is partially correct a...        0.75  \n",
      "4  Score: 0.75\\nThe LLM output is mostly correct ...        0.75  \n",
      "Processing 116 LLM outputs against 176 ground truth statements...\n"
     ]
    },
    {
     "name": "stderr",
     "output_type": "stream",
     "text": [
      "Evaluating relationships: 100%|███████████████| 116/116 [03:30<00:00,  1.81s/it]"
     ]
    },
    {
     "name": "stdout",
     "output_type": "stream",
     "text": [
      "\n",
      "Overall Average Score: 0.76\n",
      "Processed 113 evaluations\n",
      "\n",
      "Summary DataFrame:\n",
      "                                          llm_output  \\\n",
      "0  Selective Serotonin Reuptake Inhibitor antidep...   \n",
      "1  SSRIs More commonly used Major Depressive Diso...   \n",
      "2  Vagus Nerve Stimulation Treats resistant unila...   \n",
      "3  Selective Serotonin Reuptake Inhibitors (SSRIs...   \n",
      "4  Depression-focused psychotherapy second-line t...   \n",
      "\n",
      "                          best_matching_ground_truth  \\\n",
      "0  Bupropion Properties Norepinephrine and dopami...   \n",
      "1  Bupropion Properties Has a more activating pro...   \n",
      "2  Somatic treatments Includes Transcranial magne...   \n",
      "3  Depression Side effect Slower response to trea...   \n",
      "4  Depression-focused psychotherapy Second most c...   \n",
      "\n",
      "                                     best_evaluation  best_score  \n",
      "0  Score: 0.50\\nThe score is low because the LLM ...        0.50  \n",
      "1  Score: 0.75\\nThe LLM output is generally corre...        0.75  \n",
      "2  Score: 0.75\\nThe LLM output correctly identifi...        0.75  \n",
      "3  Score: 0.75\\nThe LLM output correctly identifi...        0.75  \n",
      "4  Score: 0.80\\nThe LLM output correctly identifi...        0.80  \n"
     ]
    },
    {
     "name": "stderr",
     "output_type": "stream",
     "text": [
      "\n"
     ]
    }
   ],
   "source": [
    "import concurrent.futures\n",
    "import re\n",
    "from openai import OpenAI\n",
    "import pandas as pd\n",
    "import numpy as np\n",
    "from tqdm import tqdm\n",
    "\n",
    "# Initialize OpenAI client\n",
    "client = OpenAI(api_key='')\n",
    "\n",
    "def extract_score(evaluation):\n",
    "    \"\"\"Extract numerical score from GPT evaluation\"\"\"\n",
    "    match = re.search(r'(?:Overall correctness score|Score|I would score the LLM output a)[:\\s]*([0-1](?:\\.\\d+)?)', evaluation, re.IGNORECASE)\n",
    "    return float(match.group(1)) if match else -1\n",
    "\n",
    "def is_relevant(ground_truth, llm_output):\n",
    "    \"\"\"Check if LLM output is relevant to ground truth\"\"\"\n",
    "    gt_terms = set(ground_truth.lower().split())\n",
    "    llm_terms = set(llm_output.lower().split())\n",
    "    return len(gt_terms.intersection(llm_terms)) > 1\n",
    "\n",
    "def get_critic_gpt_evaluation(llm_text, gt_text):\n",
    "    \"\"\"Get evaluation from GPT for a single comparison\"\"\"\n",
    "    try:\n",
    "        prompt = f\"\"\"\n",
    "        Compare these statements:\n",
    "        Ground Truth: {gt_text}\n",
    "        LLM Output: {llm_text}\n",
    "        \n",
    "        Score from 0 to 1 for overall correctness (1 being highly correct). Format: 'Score: X.XX'\n",
    "        Brief explanation (one sentence).\n",
    "        \"\"\"\n",
    "        \n",
    "        response = client.chat.completions.create(\n",
    "            model=\"gpt-3.5-turbo\",\n",
    "            messages=[{\"role\": \"user\", \"content\": prompt}],\n",
    "            max_tokens=150\n",
    "        )\n",
    "        return response.choices[0].message.content.strip()\n",
    "    except Exception as e:\n",
    "        print(f\"Error during evaluation: {e}\")\n",
    "        return None\n",
    "\n",
    "def evaluate_single_output(llm_row, ground_truth_df):\n",
    "    \"\"\"Evaluate a single LLM output against all ground truth entries\"\"\"\n",
    "    llm_text = f\"{llm_row['subj']} {llm_row['rel']} {llm_row['obj']}\"\n",
    "    best_score = -1\n",
    "    best_evaluation = None\n",
    "    best_gt_row = None\n",
    "    \n",
    "    for _, gt_row in ground_truth_df.iterrows():\n",
    "        gt_text = f\"{gt_row['subj']} {gt_row['rel']} {gt_row['obj']}\"\n",
    "        \n",
    "        if not is_relevant(gt_text, llm_text):\n",
    "            continue\n",
    "            \n",
    "        evaluation = get_critic_gpt_evaluation(llm_text, gt_text)\n",
    "        \n",
    "        if evaluation:\n",
    "            score = extract_score(evaluation)\n",
    "            if score > best_score:\n",
    "                best_score = score\n",
    "                best_evaluation = evaluation\n",
    "                best_gt_row = gt_text\n",
    "    \n",
    "    return {\n",
    "        'llm_output': llm_text,\n",
    "        'best_matching_ground_truth': best_gt_row,\n",
    "        'best_evaluation': best_evaluation,\n",
    "        'best_score': best_score\n",
    "    }\n",
    "\n",
    "def evaluate_all_outputs(llm_output_df, ground_truth_df, max_workers=10):\n",
    "    \"\"\"Process all LLM outputs in parallel\"\"\"\n",
    "    all_evaluations = []\n",
    "    total = len(llm_output_df)\n",
    "    \n",
    "    with concurrent.futures.ThreadPoolExecutor(max_workers=max_workers) as executor:\n",
    "        # Create future tasks\n",
    "        future_to_row = {\n",
    "            executor.submit(evaluate_single_output, row, ground_truth_df): i \n",
    "            for i, (_, row) in enumerate(llm_output_df.iterrows())\n",
    "        }\n",
    "        \n",
    "        # Process results with progress bar\n",
    "        with tqdm(total=total, desc=\"Evaluating relationships\") as pbar:\n",
    "            for future in concurrent.futures.as_completed(future_to_row):\n",
    "                try:\n",
    "                    result = future.result()\n",
    "                    if result['best_score'] != -1:\n",
    "                        all_evaluations.append(result)\n",
    "                except Exception as e:\n",
    "                    print(f\"Error processing row: {e}\")\n",
    "                pbar.update(1)\n",
    "    \n",
    "    return all_evaluations\n",
    "\n",
    "# Load data\n",
    "final_evals = []\n",
    "ground_truth = pd.read_csv(\"ground_truth.csv\")\n",
    "rel_docs = [\"NewRels_Skip2_cummulative.csv\", \"NewRels_Skip2_increments.csv\", \n",
    "            \"NewRels_Skip3_cummulative.csv\", \"NewRels_Skip3_increments.csv\", \n",
    "            \"NewRels_Skip4_increments.csv\", \"Temperature0point2.csv\", \n",
    "            \"Temperature1_WithExamples.csv\", \"Temperature1_WithoutExamples_cleaned.csv\", \n",
    "            \"Temperature1_WithoutExamples.csv\"]\n",
    "\n",
    "for doc in rel_docs:\n",
    "    llm_output = pd.read_csv(doc)\n",
    "    print(f\"Processing {len(llm_output)} LLM outputs against {len(ground_truth)} ground truth statements...\")\n",
    "\n",
    "    # Run evaluation\n",
    "    evaluations = evaluate_all_outputs(\n",
    "        llm_output_df=llm_output,\n",
    "        ground_truth_df=ground_truth,\n",
    "        max_workers=10\n",
    "    )\n",
    "\n",
    "    # Calculate average score\n",
    "    valid_scores = [eval['best_score'] for eval in evaluations if eval['best_score'] != -1]\n",
    "    average_score = np.mean(valid_scores) if valid_scores else 0\n",
    "    \n",
    "    # Print results\n",
    "    print(f\"\\nOverall Average Score: {average_score:.2f}\")\n",
    "    print(f\"Processed {len(evaluations)} evaluations\")\n",
    "    \n",
    "    # Save results to DataFrame\n",
    "    final_evals.append(average_score)\n",
    "    results_df = pd.DataFrame(evaluations)\n",
    "    print(\"\\nSummary DataFrame:\")\n",
    "    print(results_df.head())\n",
    "    \n",
    "    # Save results\n",
    "    results_df.to_csv(f'GPT_critic_eval_for_{doc}', index=False)"
   ]
  },
  {
   "cell_type": "code",
   "execution_count": 7,
   "id": "fd5487bc-b2b9-47b0-90b5-92501f0656f0",
   "metadata": {},
   "outputs": [
    {
     "name": "stdout",
     "output_type": "stream",
     "text": [
      "Accuracy for NewRels_Skip2_cummulative.csv: 0.72\n",
      "Accuracy for NewRels_Skip2_increments.csv: 0.67\n",
      "Accuracy for NewRels_Skip3_cummulative.csv: 0.72\n",
      "Accuracy for NewRels_Skip3_increments.csv: 0.68\n",
      "Accuracy for NewRels_Skip4_increments.csv: 0.65\n",
      "Accuracy for Temperature0point2.csv: 0.76\n",
      "Accuracy for Temperature1_WithExamples.csv: 0.74\n",
      "Accuracy for Temperature1_WithoutExamples_cleaned.csv: 0.76\n",
      "Accuracy for Temperature1_WithoutExamples.csv: 0.76\n"
     ]
    }
   ],
   "source": [
    "for i in range(len(final_evals)):\n",
    "    print(f\"Accuracy for {rel_docs[i]}: {final_evals[i]:.2f}\")"
   ]
  }
 ],
 "metadata": {
  "kernelspec": {
   "display_name": "Python 3 (ipykernel)",
   "language": "python",
   "name": "python3"
  },
  "language_info": {
   "codemirror_mode": {
    "name": "ipython",
    "version": 3
   },
   "file_extension": ".py",
   "mimetype": "text/x-python",
   "name": "python",
   "nbconvert_exporter": "python",
   "pygments_lexer": "ipython3",
   "version": "3.12.1"
  }
 },
 "nbformat": 4,
 "nbformat_minor": 5
}
